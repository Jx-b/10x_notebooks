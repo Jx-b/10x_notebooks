{
 "cells": [
  {
   "cell_type": "markdown",
   "metadata": {},
   "source": [
    "# CellRanger output processing\n",
    "\n",
    "This notebook goals is to recreate the cell x gene expression matrix from the [output](https://support.10xgenomics.com/single-cell-gene-expression/software/pipelines/latest/output/overview) of [CellRanger 3.1](https://support.10xgenomics.com/single-cell-gene-expression/software/pipelines/latest/what-is-cell-ranger)"
   ]
  },
  {
   "cell_type": "code",
   "execution_count": 1,
   "metadata": {},
   "outputs": [],
   "source": [
    "import os\n",
    "import pandas as pd\n",
    "import numpy as np"
   ]
  },
  {
   "cell_type": "markdown",
   "metadata": {},
   "source": [
    "### 1. Download the [Feature-Barcode Matrices](https://support.10xgenomics.com/single-cell-gene-expression/software/pipelines/latest/output/matrices) from the dataset of your choice in the Market Exchange format\n",
    "\n",
    "In this example, we will use data from 4 healthy PBMC donors: https://support.10xgenomics.com/single-cell-vdj/datasets/ (Application Note - A New Way of Exploring Immunity)\n",
    "\n",
    "[Donor 1](https://support.10xgenomics.com/single-cell-vdj/datasets/3.0.2/vdj_v1_hs_aggregated_donor1)\n",
    "[Donor 2](https://support.10xgenomics.com/single-cell-vdj/datasets/3.0.2/vdj_v1_hs_aggregated_donor2)\n",
    "[Donor 3](https://support.10xgenomics.com/single-cell-vdj/datasets/3.0.2/vdj_v1_hs_aggregated_donor3)\n",
    "[Donor 4](https://support.10xgenomics.com/single-cell-vdj/datasets/3.0.2/vdj_v1_hs_aggregated_donor4)"
   ]
  },
  {
   "cell_type": "code",
   "execution_count": null,
   "metadata": {},
   "outputs": [],
   "source": [
    "#create directories to store the data\n",
    "donors = [\"donor\"+str(i+1) for i in range(4)]\n",
    "for d in donors:\n",
    "    try:\n",
    "        os.mkdir(d)\n",
    "    except FileExistsError:\n",
    "        pass"
   ]
  },
  {
   "cell_type": "markdown",
   "metadata": {},
   "source": [
    "The following bash script does 3 things for each donor:\n",
    "* Download the data\n",
    "* Extract the tar file\n",
    "* Unzip the 3 matrices\n"
   ]
  },
  {
   "cell_type": "code",
   "execution_count": null,
   "metadata": {},
   "outputs": [],
   "source": [
    "%%bash\n",
    "counter=1\n",
    "while [ $counter -le 4 ]\n",
    "do\n",
    "cd 'donor'$counter\n",
    "echo $PWD\n",
    "curl -O 'http://cf.10xgenomics.com/samples/cell-vdj/3.0.2/vdj_v1_hs_aggregated_donor'$counter'/vdj_v1_hs_aggregated_donor'$counter'_filtered_feature_bc_matrix.tar.gz'\n",
    "tar -xvf *.tar.gz\n",
    "gunzip filtered_feature_bc_matrix/*.gz \n",
    "cd ..\n",
    "((counter++))\n",
    "done"
   ]
  },
  {
   "cell_type": "markdown",
   "metadata": {},
   "source": [
    "### 3. Recreate and export the cell x gene expression matrix\n",
    "\n",
    "The mapping_mtx indicates counts for each barcode/gene combination. We first create an empty expression matrix and then add count using the mapping matrix."
   ]
  },
  {
   "cell_type": "code",
   "execution_count": 3,
   "metadata": {},
   "outputs": [],
   "source": [
    "MATRIX_DIR = \"filtered_feature_bc_matrix\""
   ]
  },
  {
   "cell_type": "code",
   "execution_count": 4,
   "metadata": {},
   "outputs": [
    {
     "name": "stdout",
     "output_type": "stream",
     "text": [
      "Processing  donor3\n",
      "number of features:  33602\n",
      "number of barcodes:  54137\n",
      "Loading mapping coordinates...\n",
      "Creating cell x gene matrix...\n",
      "Mapping counts to cell x gene expression matrix...\n",
      "0  rows processed,  69912747 remaining...\n",
      "1000000  rows processed,  68912747 remaining...\n",
      "2000000  rows processed,  67912747 remaining...\n",
      "3000000  rows processed,  66912747 remaining...\n",
      "4000000  rows processed,  65912747 remaining...\n",
      "5000000  rows processed,  64912747 remaining...\n",
      "6000000  rows processed,  63912747 remaining...\n",
      "7000000  rows processed,  62912747 remaining...\n",
      "8000000  rows processed,  61912747 remaining...\n",
      "9000000  rows processed,  60912747 remaining...\n",
      "10000000  rows processed,  59912747 remaining...\n",
      "11000000  rows processed,  58912747 remaining...\n",
      "12000000  rows processed,  57912747 remaining...\n",
      "13000000  rows processed,  56912747 remaining...\n",
      "14000000  rows processed,  55912747 remaining...\n",
      "15000000  rows processed,  54912747 remaining...\n",
      "16000000  rows processed,  53912747 remaining...\n",
      "17000000  rows processed,  52912747 remaining...\n",
      "18000000  rows processed,  51912747 remaining...\n",
      "19000000  rows processed,  50912747 remaining...\n",
      "20000000  rows processed,  49912747 remaining...\n",
      "21000000  rows processed,  48912747 remaining...\n",
      "22000000  rows processed,  47912747 remaining...\n",
      "23000000  rows processed,  46912747 remaining...\n",
      "24000000  rows processed,  45912747 remaining...\n",
      "25000000  rows processed,  44912747 remaining...\n",
      "26000000  rows processed,  43912747 remaining...\n",
      "27000000  rows processed,  42912747 remaining...\n",
      "28000000  rows processed,  41912747 remaining...\n",
      "29000000  rows processed,  40912747 remaining...\n",
      "30000000  rows processed,  39912747 remaining...\n",
      "31000000  rows processed,  38912747 remaining...\n",
      "32000000  rows processed,  37912747 remaining...\n",
      "33000000  rows processed,  36912747 remaining...\n",
      "34000000  rows processed,  35912747 remaining...\n",
      "35000000  rows processed,  34912747 remaining...\n",
      "36000000  rows processed,  33912747 remaining...\n",
      "37000000  rows processed,  32912747 remaining...\n",
      "38000000  rows processed,  31912747 remaining...\n",
      "39000000  rows processed,  30912747 remaining...\n",
      "40000000  rows processed,  29912747 remaining...\n",
      "41000000  rows processed,  28912747 remaining...\n",
      "42000000  rows processed,  27912747 remaining...\n",
      "43000000  rows processed,  26912747 remaining...\n",
      "44000000  rows processed,  25912747 remaining...\n",
      "45000000  rows processed,  24912747 remaining...\n",
      "46000000  rows processed,  23912747 remaining...\n",
      "47000000  rows processed,  22912747 remaining...\n",
      "48000000  rows processed,  21912747 remaining...\n",
      "49000000  rows processed,  20912747 remaining...\n",
      "50000000  rows processed,  19912747 remaining...\n",
      "51000000  rows processed,  18912747 remaining...\n",
      "52000000  rows processed,  17912747 remaining...\n",
      "53000000  rows processed,  16912747 remaining...\n",
      "54000000  rows processed,  15912747 remaining...\n",
      "55000000  rows processed,  14912747 remaining...\n",
      "56000000  rows processed,  13912747 remaining...\n",
      "57000000  rows processed,  12912747 remaining...\n",
      "58000000  rows processed,  11912747 remaining...\n",
      "59000000  rows processed,  10912747 remaining...\n",
      "60000000  rows processed,  9912747 remaining...\n",
      "61000000  rows processed,  8912747 remaining...\n",
      "62000000  rows processed,  7912747 remaining...\n",
      "63000000  rows processed,  6912747 remaining...\n",
      "64000000  rows processed,  5912747 remaining...\n",
      "65000000  rows processed,  4912747 remaining...\n",
      "66000000  rows processed,  3912747 remaining...\n",
      "67000000  rows processed,  2912747 remaining...\n",
      "68000000  rows processed,  1912747 remaining...\n",
      "69000000  rows processed,  912747 remaining...\n",
      "Exporting expression matrix for  donor3 ...\n"
     ]
    }
   ],
   "source": [
    "for donor in donors:\n",
    "    if os.path.exists(os.path.join(donor, 'exp_mtx.h5')):\n",
    "        continue\n",
    "        \n",
    "    print('Processing ', donor)\n",
    "    #import features\n",
    "    feat = pd.read_csv(os.path.join(donor, MATRIX_DIR, \"features.tsv\"), sep='\\t', \n",
    "                   header=None, names= ['feature_ID', 'feature_name', 'feature_type'])\n",
    "    print('number of features: ',feat.shape[0])\n",
    "    \n",
    "    #import barcodes\n",
    "    bc = pd.read_csv(os.path.join(donor, MATRIX_DIR, \"barcodes.tsv\"), sep='\\t', \n",
    "                 header=None, names= ['barcodes'])\n",
    "    print('number of barcodes: ',bc.shape[0])\n",
    "    \n",
    "    #import exp matrix\n",
    "    mtx = pd.read_csv(os.path.join(donor, MATRIX_DIR, \"matrix.mtx\"), sep='\\t')\n",
    "    #check that indices length in mtx match the number of features and barcodes\n",
    "    len_feat, len_bc, len_mtx = [int(x) for x in mtx.iloc[1,0].split(' ')]\n",
    "    if len_feat != feat.shape[0]:\n",
    "        print('The number of features does not match the matrix file')\n",
    "    if len_bc != bc.shape[0]:\n",
    "        print('The number of barcodes does not match the matrix file')\n",
    "    if len_mtx != mtx.shape[0]-2:\n",
    "        print('The number of rows in the matrix file does not match its index')\n",
    "    \n",
    "    if os.path.exists(os.path.join(donor, 'mapping_mtx.h5')):\n",
    "        print('Loading mapping coordinates...')\n",
    "        mapping_mtx = pd.read_hdf(os.path.join(donor, 'mapping_mtx.h5'), key= 'data')\n",
    "    else:    \n",
    "        print('Creating mapping coordinates...')\n",
    "        mapping_mtx = pd.DataFrame(mtx.iloc[2:,0].str.split(' ', expand=True).values, columns=['feat','bc','count'], dtype='int')\n",
    "        mapping_mtx.to_hdf(os.path.join(donor, 'mapping_mtx.h5'), key= 'data')\n",
    "    #create empty cell x gene matrix\n",
    "    print('Creating cell x gene matrix...')\n",
    "    exp_mtx = pd.DataFrame(data= 0, index= bc['barcodes'], columns= feat['feature_ID'])\n",
    "    \n",
    "    #add count data\n",
    "    print('Mapping counts to cell x gene expression matrix...')\n",
    "    for idx, coord in mapping_mtx.iterrows():\n",
    "        if idx%1000000 == 0:\n",
    "            print(idx, ' rows processed, ', len_mtx-idx, 'remaining...')\n",
    "        exp_mtx.iloc[coord['bc']-1,coord['feat']-1] = coord['count']\n",
    "        \n",
    "    #exp_mtx.to_csv('exp_mtx.csv')\n",
    "    print('Exporting expression matrix for ', donor, '...')\n",
    "    exp_mtx.to_hdf(os.path.join(donor, 'exp_mtx.h5'), key= 'data')"
   ]
  },
  {
   "cell_type": "code",
   "execution_count": null,
   "metadata": {},
   "outputs": [],
   "source": []
  }
 ],
 "metadata": {
  "kernelspec": {
   "display_name": "Python 3",
   "language": "python",
   "name": "python3"
  },
  "language_info": {
   "codemirror_mode": {
    "name": "ipython",
    "version": 3
   },
   "file_extension": ".py",
   "mimetype": "text/x-python",
   "name": "python",
   "nbconvert_exporter": "python",
   "pygments_lexer": "ipython3",
   "version": "3.6.7"
  }
 },
 "nbformat": 4,
 "nbformat_minor": 4
}
